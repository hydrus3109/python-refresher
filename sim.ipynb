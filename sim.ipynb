{
 "cells": [
  {
   "cell_type": "code",
   "execution_count": 5,
   "metadata": {},
   "outputs": [],
   "source": [
    "import numpy as np\n",
    "import math\n",
    "import matplotlib as plt"
   ]
  },
  {
   "cell_type": "code",
   "execution_count": 4,
   "metadata": {},
   "outputs": [],
   "source": [
    "def calc_auv2_accel(T, alpha, theta, mass=100):\n",
    "    Thorz = T * math.sin(alpha)\n",
    "    Tvert = T * math.cos(alpha)\n",
    "    tothorizontal = Thorz[0] - Thorz[1] + Thorz[2] - Thorz[3]\n",
    "    totvertical = Tvert[:2] - Tvert[2:]\n",
    "    accel = np.array([tothorizontal, totvertical])\n",
    "    rotate = np.array(\n",
    "        [[math.cos(theta), -math.sin(theta)], [math.sin(theta), math.cos(theta)]]\n",
    "    )\n",
    "    return np.dot(rotate, accel) / mass\n",
    "\n",
    "\n",
    "def calc_auv2_ang_accel(T, alpha, L, l, interia=100):\n",
    "    Thorz = T * math.sin(alpha)\n",
    "    Tvert = T * math.cos(alpha)\n",
    "    torques = l * Thorz + L * Tvert\n",
    "    return torques[0] - torques[1] + torques[2] - torques[3]\n",
    "\n",
    "def sim_auv_motion(T, alpha, L, l, lmass, inertia, dt=0.1, t_final=10, x0=0, y0=0, theta=0):\n",
    "    count = 0\n",
    "    curang = theta\n",
    "    timestamps = np.array([0])\n",
    "    x = np.array([x0])\n",
    "    y = np.array([y0])\n",
    "    theta = np.array([theta])\n",
    "    v = np.array([0, 0])\n",
    "    omega = np.array([0])\n",
    "    a = np.array([0, 0])\n",
    "    while count <= t_final:\n",
    "        count += dt\n",
    "        timestamps.append(count)\n",
    "        accel = calc_auv2_accel(T, alpha, curang)\n",
    "        a.append(accel)\n",
    "        angaccel = calc_auv2_ang_accel(T, alpha, L, l, inertia)\n",
    "        newv = v[-1] + accel * dt\n",
    "        newomega = omega[-1] + angaccel * dt\n",
    "        v.append(newv)\n",
    "        omega.append(newomega)\n",
    "        newtheta = theta[-1] * dt + 0.5 * angaccel * dt * dt\n",
    "        theta.append(newtheta)\n",
    "        newcoords = np.array([x[-1], y[-1]]) * dt + 0.5 * accel * dt * dt\n",
    "        x.append(newcoords[0])\n",
    "        y.append(newcoords[1])\n",
    "    return timestamps, x, y, theta, v, omega, a"
   ]
  },
  {
   "cell_type": "code",
   "execution_count": 6,
   "metadata": {},
   "outputs": [
    {
     "ename": "AttributeError",
     "evalue": "'numpy.ndarray' object has no attribute 'append'",
     "output_type": "error",
     "traceback": [
      "\u001b[0;31m---------------------------------------------------------------------------\u001b[0m",
      "\u001b[0;31mAttributeError\u001b[0m                            Traceback (most recent call last)",
      "Cell \u001b[0;32mIn[6], line 1\u001b[0m\n\u001b[0;32m----> 1\u001b[0m t, x, y, theta, v, omega, a \u001b[38;5;241m=\u001b[39m \u001b[43msim_auv_motion\u001b[49m\u001b[43m(\u001b[49m\u001b[43mnp\u001b[49m\u001b[38;5;241;43m.\u001b[39;49m\u001b[43marray\u001b[49m\u001b[43m(\u001b[49m\u001b[43m[\u001b[49m\u001b[38;5;241;43m10\u001b[39;49m\u001b[43m,\u001b[49m\u001b[38;5;241;43m10\u001b[39;49m\u001b[43m,\u001b[49m\u001b[38;5;241;43m10\u001b[39;49m\u001b[43m,\u001b[49m\u001b[38;5;241;43m10\u001b[39;49m\u001b[43m]\u001b[49m\u001b[43m)\u001b[49m\u001b[43m,\u001b[49m\u001b[43m  \u001b[49m\u001b[38;5;241;43m3\u001b[39;49m\u001b[43m,\u001b[49m\u001b[43m \u001b[49m\u001b[38;5;241;43m3\u001b[39;49m\u001b[43m,\u001b[49m\u001b[43m \u001b[49m\u001b[38;5;241;43m3\u001b[39;49m\u001b[43m,\u001b[49m\u001b[43m \u001b[49m\u001b[38;5;241;43m3\u001b[39;49m\u001b[43m,\u001b[49m\u001b[43m \u001b[49m\u001b[38;5;241;43m3\u001b[39;49m\u001b[43m)\u001b[49m\n\u001b[1;32m      2\u001b[0m coords \u001b[38;5;241m=\u001b[39m np\u001b[38;5;241m.\u001b[39mstack(x,y)\n\u001b[1;32m      3\u001b[0m plt\u001b[38;5;241m.\u001b[39mplot(coords)\n",
      "Cell \u001b[0;32mIn[4], line 31\u001b[0m, in \u001b[0;36msim_auv_motion\u001b[0;34m(T, alpha, L, l, lmass, inertia, dt, t_final, x0, y0, theta)\u001b[0m\n\u001b[1;32m     29\u001b[0m \u001b[38;5;28;01mwhile\u001b[39;00m count \u001b[38;5;241m<\u001b[39m\u001b[38;5;241m=\u001b[39m t_final:\n\u001b[1;32m     30\u001b[0m     count \u001b[38;5;241m+\u001b[39m\u001b[38;5;241m=\u001b[39m dt\n\u001b[0;32m---> 31\u001b[0m     \u001b[43mtimestamps\u001b[49m\u001b[38;5;241;43m.\u001b[39;49m\u001b[43mappend\u001b[49m(count)\n\u001b[1;32m     32\u001b[0m     accel \u001b[38;5;241m=\u001b[39m calc_auv2_accel(T, alpha, curang)\n\u001b[1;32m     33\u001b[0m     a\u001b[38;5;241m.\u001b[39mappend(accel)\n",
      "\u001b[0;31mAttributeError\u001b[0m: 'numpy.ndarray' object has no attribute 'append'"
     ]
    }
   ],
   "source": [
    "t, x, y, theta, v, omega, a = sim_auv_motion(np.array([10,10,10,10]),  3, 3, 3, 3, 3)\n",
    "coords = np.stack(x,y)\n",
    "plt.plot(coords)"
   ]
  }
 ],
 "metadata": {
  "kernelspec": {
   "display_name": "python-refresher",
   "language": "python",
   "name": "python3"
  },
  "language_info": {
   "codemirror_mode": {
    "name": "ipython",
    "version": 3
   },
   "file_extension": ".py",
   "mimetype": "text/x-python",
   "name": "python",
   "nbconvert_exporter": "python",
   "pygments_lexer": "ipython3",
   "version": "3.12.3"
  }
 },
 "nbformat": 4,
 "nbformat_minor": 2
}
