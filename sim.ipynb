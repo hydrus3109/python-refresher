{
 "cells": [
  {
   "cell_type": "code",
   "execution_count": 1,
   "metadata": {},
   "outputs": [],
   "source": [
    "import numpy as np\n",
    "import math\n",
    "import matplotlib.pyplot as plt"
   ]
  },
  {
   "cell_type": "code",
   "execution_count": 2,
   "metadata": {},
   "outputs": [],
   "source": [
    "def calc_auv2_accel(T, alpha, theta, mass=100):\n",
    "    \"\"\"given a np array of forces in newtons, an alpha offset of the motor in radians, and a theta offset of the vehicle in radians, and the mass of the vehicle  in kgs, reutrns the a 2d array of the vehicle's accleration in m/s^2\"\"\"\n",
    "    if mass <= 0:\n",
    "        raise ZeroDivisionError(\"can't divide by 0/negative mass\")\n",
    "    Thorz = T * math.cos(alpha)\n",
    "    Tvert = T * math.sin(alpha)\n",
    "    tothorizontal = Thorz[0] + Thorz[1] - Thorz[2] - Thorz[3]\n",
    "    totvertical = Tvert[0] - Tvert[1] - Tvert[2] + Tvert[3]\n",
    "    accel = np.array([tothorizontal, totvertical])\n",
    "    rotate = np.array(\n",
    "        [[math.cos(theta), -math.sin(theta)], [math.sin(theta), math.cos(theta)]]\n",
    "    )\n",
    "    return np.dot(rotate, accel) / mass\n",
    "\n",
    "\n",
    "def calc_auv2_ang_accel(T, alpha, L, l, interia=100):\n",
    "    Thorz = T * np.sin(alpha)\n",
    "    Tvert = T * np.cos(alpha)\n",
    "    torques = l * Thorz + L * Tvert\n",
    "    return torques[0] - torques[1] + torques[2] - torques[3]\n",
    "\n",
    "\n",
    "def sim_auv_motion(\n",
    "    T, alpha, L, l, lmass, inertia, dt=0.1, t_final=10, x0=0, y0=0, theta=0\n",
    "):\n",
    "    count = 0\n",
    "    curang = theta\n",
    "    timestamps = np.array([0])\n",
    "    x = np.array([x0])\n",
    "    y = np.array([y0])\n",
    "    theta = np.array([theta])\n",
    "    v = np.array([0, 0])\n",
    "    omega = np.array([0])\n",
    "    a = np.array([0, 0])\n",
    "    while count <= t_final:\n",
    "        count += dt\n",
    "        timestamps = np.append(timestamps, count)\n",
    "        accel = calc_auv2_accel(T, alpha, curang)\n",
    "        a = np.append(a, accel)\n",
    "        angaccel = calc_auv2_ang_accel(T, alpha, L, l, inertia)\n",
    "        newv = v[-1] + accel * dt\n",
    "        newomega = omega[-1] + angaccel * dt\n",
    "        v = np.append(v, newv)\n",
    "        omega = np.append(omega, newomega)\n",
    "        newtheta = theta[-1] * dt + 0.5 * angaccel * dt * dt\n",
    "        theta = np.append(theta, newtheta)\n",
    "        curang = theta\n",
    "        newcoords = np.array([x[-1], y[-1]]) * dt + 0.5 * accel * dt * dt\n",
    "        x = np.append(x, newcoords[0])\n",
    "        y = np.append(y, newcoords[1])\n",
    "    return timestamps, x, y, theta, v, omega, a\n"
   ]
  },
  {
   "cell_type": "code",
   "execution_count": 3,
   "metadata": {},
   "outputs": [
    {
     "ename": "TypeError",
     "evalue": "only length-1 arrays can be converted to Python scalars",
     "output_type": "error",
     "traceback": [
      "\u001b[0;31m---------------------------------------------------------------------------\u001b[0m",
      "\u001b[0;31mTypeError\u001b[0m                                 Traceback (most recent call last)",
      "Cell \u001b[0;32mIn[3], line 1\u001b[0m\n\u001b[0;32m----> 1\u001b[0m timestamps, x, y, theta, v, omega, a \u001b[38;5;241m=\u001b[39m \u001b[43msim_auv_motion\u001b[49m\u001b[43m(\u001b[49m\u001b[43mnp\u001b[49m\u001b[38;5;241;43m.\u001b[39;49m\u001b[43marray\u001b[49m\u001b[43m(\u001b[49m\u001b[43m[\u001b[49m\u001b[38;5;241;43m0\u001b[39;49m\u001b[43m,\u001b[49m\u001b[38;5;241;43m0\u001b[39;49m\u001b[43m,\u001b[49m\u001b[38;5;241;43m10\u001b[39;49m\u001b[43m,\u001b[49m\u001b[38;5;241;43m10\u001b[39;49m\u001b[43m]\u001b[49m\u001b[43m)\u001b[49m\u001b[43m,\u001b[49m\u001b[43m  \u001b[49m\u001b[38;5;241;43m0\u001b[39;49m\u001b[43m,\u001b[49m\u001b[43m \u001b[49m\u001b[38;5;241;43m3\u001b[39;49m\u001b[43m,\u001b[49m\u001b[43m \u001b[49m\u001b[38;5;241;43m3\u001b[39;49m\u001b[43m,\u001b[49m\u001b[43m \u001b[49m\u001b[38;5;241;43m3\u001b[39;49m\u001b[43m,\u001b[49m\u001b[43m \u001b[49m\u001b[38;5;241;43m3\u001b[39;49m\u001b[43m)\u001b[49m\n",
      "Cell \u001b[0;32mIn[2], line 38\u001b[0m, in \u001b[0;36msim_auv_motion\u001b[0;34m(T, alpha, L, l, lmass, inertia, dt, t_final, x0, y0, theta)\u001b[0m\n\u001b[1;32m     36\u001b[0m count \u001b[38;5;241m+\u001b[39m\u001b[38;5;241m=\u001b[39m dt\n\u001b[1;32m     37\u001b[0m timestamps \u001b[38;5;241m=\u001b[39m np\u001b[38;5;241m.\u001b[39mappend(timestamps, count)\n\u001b[0;32m---> 38\u001b[0m accel \u001b[38;5;241m=\u001b[39m \u001b[43mcalc_auv2_accel\u001b[49m\u001b[43m(\u001b[49m\u001b[43mT\u001b[49m\u001b[43m,\u001b[49m\u001b[43m \u001b[49m\u001b[43malpha\u001b[49m\u001b[43m,\u001b[49m\u001b[43m \u001b[49m\u001b[43mcurang\u001b[49m\u001b[43m)\u001b[49m\n\u001b[1;32m     39\u001b[0m a \u001b[38;5;241m=\u001b[39m np\u001b[38;5;241m.\u001b[39mappend(a, accel)\n\u001b[1;32m     40\u001b[0m angaccel \u001b[38;5;241m=\u001b[39m calc_auv2_ang_accel(T, alpha, L, l, inertia)\n",
      "Cell \u001b[0;32mIn[2], line 11\u001b[0m, in \u001b[0;36mcalc_auv2_accel\u001b[0;34m(T, alpha, theta, mass)\u001b[0m\n\u001b[1;32m      8\u001b[0m totvertical \u001b[38;5;241m=\u001b[39m Tvert[\u001b[38;5;241m0\u001b[39m] \u001b[38;5;241m-\u001b[39m Tvert[\u001b[38;5;241m1\u001b[39m] \u001b[38;5;241m-\u001b[39m Tvert[\u001b[38;5;241m2\u001b[39m] \u001b[38;5;241m+\u001b[39m Tvert[\u001b[38;5;241m3\u001b[39m]\n\u001b[1;32m      9\u001b[0m accel \u001b[38;5;241m=\u001b[39m np\u001b[38;5;241m.\u001b[39marray([tothorizontal, totvertical])\n\u001b[1;32m     10\u001b[0m rotate \u001b[38;5;241m=\u001b[39m np\u001b[38;5;241m.\u001b[39marray(\n\u001b[0;32m---> 11\u001b[0m     [[\u001b[43mmath\u001b[49m\u001b[38;5;241;43m.\u001b[39;49m\u001b[43mcos\u001b[49m\u001b[43m(\u001b[49m\u001b[43mtheta\u001b[49m\u001b[43m)\u001b[49m, \u001b[38;5;241m-\u001b[39mmath\u001b[38;5;241m.\u001b[39msin(theta)], [math\u001b[38;5;241m.\u001b[39msin(theta), math\u001b[38;5;241m.\u001b[39mcos(theta)]]\n\u001b[1;32m     12\u001b[0m )\n\u001b[1;32m     13\u001b[0m \u001b[38;5;28;01mreturn\u001b[39;00m np\u001b[38;5;241m.\u001b[39mdot(rotate, accel) \u001b[38;5;241m/\u001b[39m mass\n",
      "\u001b[0;31mTypeError\u001b[0m: only length-1 arrays can be converted to Python scalars"
     ]
    }
   ],
   "source": [
    "timestamps, x, y, theta, v, omega, a = sim_auv_motion(np.array([0,0,10,10]),  0, 3, 3, 3, 3)\n"
   ]
  }
 ],
 "metadata": {
  "kernelspec": {
   "display_name": "python-refresher",
   "language": "python",
   "name": "python3"
  },
  "language_info": {
   "codemirror_mode": {
    "name": "ipython",
    "version": 3
   },
   "file_extension": ".py",
   "mimetype": "text/x-python",
   "name": "python",
   "nbconvert_exporter": "python",
   "pygments_lexer": "ipython3",
   "version": "3.12.3"
  }
 },
 "nbformat": 4,
 "nbformat_minor": 2
}
